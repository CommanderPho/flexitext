{
 "cells": [
  {
   "cell_type": "code",
   "execution_count": 1,
   "id": "3d583714",
   "metadata": {},
   "outputs": [],
   "source": [
    "import matplotlib.pyplot as plt\n",
    "\n",
    "from matplotlib.offsetbox import TextArea, AnnotationBbox, OffsetBox, HPacker, VPacker"
   ]
  },
  {
   "cell_type": "code",
   "execution_count": 2,
   "id": "d188e8f0",
   "metadata": {},
   "outputs": [],
   "source": [
    "def spacify(string, spaces=2):\n",
    "    \"\"\"Add spaces to the beginning of each line in a multi-line string.\"\"\"\n",
    "    return spaces * \" \" + (spaces * \" \").join(string.splitlines(True))\n",
    "\n",
    "\n",
    "def multilinify(sequence, sep=\",\"):\n",
    "    \"\"\"Make a multi-line string out of a sequence of strings.\"\"\"\n",
    "    sep += \"\\n\"\n",
    "    return \"\\n\" + sep.join(sequence)"
   ]
  },
  {
   "cell_type": "code",
   "execution_count": 3,
   "id": "9a3aa1b2",
   "metadata": {},
   "outputs": [],
   "source": [
    "class Style:    \n",
    "    def __init__(\n",
    "        self, \n",
    "        alpha=None, \n",
    "        backgroundcolor=None,\n",
    "        color=None,\n",
    "        family=None,\n",
    "        name=None,\n",
    "        size=None,\n",
    "        style=None,\n",
    "        weight=None\n",
    "    ):\n",
    "        self.string = None\n",
    "        self.alpha = alpha\n",
    "        self.backgroundcolor = backgroundcolor\n",
    "        self.color = color\n",
    "        self.family = family\n",
    "        self.name = name\n",
    "        self.size = size\n",
    "        self.style = style\n",
    "        self.weight = weight\n",
    "    \n",
    "    def __call__(self, string):\n",
    "        self.string = string\n",
    "        return self\n",
    "    \n",
    "    def __repr__(self):\n",
    "        specs = [f\"{k}={v}\" for k, v in self.__dict__.items() if v is not None]\n",
    "        return f\"{self.__class__.__name__}({spacify(multilinify(specs))}\\n)\"\n",
    "    \n",
    "    @property\n",
    "    def kwargs(self):\n",
    "        return {k:v for k, v in self.__dict__.items() if v is not None}"
   ]
  },
  {
   "cell_type": "code",
   "execution_count": 4,
   "id": "d669f9fd",
   "metadata": {},
   "outputs": [],
   "source": [
    "# ma: left|right|center\n",
    "# va: center|top|bottom|baseline\n",
    "# ha:\n",
    "\n",
    "class FlexiText:\n",
    "    def __init__(self, *args):\n",
    "        self.args = args\n",
    "  \n",
    "    def plot(self, x, y, ax=None, ha=\"center\", va=\"center\", ma=\"left\", xycoords=\"axes fraction\"):\n",
    "        ob = self._make_offset_box()\n",
    "        \n",
    "        box_alignment = self._make_box_alignment(ha, va)\n",
    "        \n",
    "        ab = AnnotationBbox(\n",
    "            ob, (x, y), \n",
    "            xycoords=xycoords, \n",
    "            frameon=False, \n",
    "            box_alignment=box_alignment\n",
    "        )\n",
    "        \n",
    "        ax.add_artist(ab)\n",
    "    \n",
    "    def _make_box_alignment(self, ha, va):\n",
    "        HA = {\"center\": 0.5, \"left\": 0, \"right\": 1}\n",
    "        VA = {\"center\": 0.5, \"top\": 1, \"bottom\": 1}\n",
    "        return (HA[ha], VA[va])\n",
    "        \n",
    "    def _make_offset_box(self):\n",
    "        children = [self._make_text_area(arg) for arg in self.args]\n",
    "        ob = HPacker(children=children, pad=0, sep=0)\n",
    "        return ob\n",
    "    \n",
    "    def _make_text_area(self, obj):\n",
    "        kwargs = obj.kwargs\n",
    "        string = kwargs.pop(\"string\")\n",
    "        return TextArea(string, textprops=kwargs)\n",
    "        \n",
    "    def _get_offset_x(self, text, fig):\n",
    "        den = fig.get_size_inches()[0] * fig.dpi\n",
    "        num = text.get_window_extent().width\n",
    "        return num / den\n",
    "\n",
    "    def __repr__(self):\n",
    "        args = [str(arg) for arg in self.args]\n",
    "        return f\"{self.__class__.__name__}({spacify(multilinify(args))}\\n)\""
   ]
  },
  {
   "cell_type": "code",
   "execution_count": 11,
   "id": "d1ef11c6",
   "metadata": {},
   "outputs": [
    {
     "data": {
      "image/png": "[encoded data removed]",
      "text/plain": [
       "<Figure size 648x432 with 1 Axes>"
      ]
     },
     "metadata": {
      "needs_background": "light"
     },
     "output_type": "display_data"
    }
   ],
   "source": [
    "s1 = Style(size=20)\n",
    "s2 = Style(color=\"dodgerblue\", size=24, alpha=0.4, name=\"Lato\")\n",
    "s3 = Style(color=\"darkcyan\", size=28, name=\"Special Elite\")\n",
    "\n",
    "ft = FlexiText(s1(\"Texto normal\"), s2(\"Texto1\"), s3(\"Texto2\"))\n",
    "\n",
    "fig, ax = plt.subplots(figsize=(9, 6))\n",
    "\n",
    "ft.plot(0.5, 0.6, ax=ax);"
   ]
  },
  {
   "cell_type": "code",
   "execution_count": 12,
   "id": "7b8e7098",
   "metadata": {},
   "outputs": [
    {
     "data": {
      "text/plain": [
       "<matplotlib.offsetbox.AnnotationBbox at 0x7f0bdf382910>"
      ]
     },
     "execution_count": 12,
     "metadata": {},
     "output_type": "execute_result"
    },
    {
     "data": {
      "image/png": "[encoded data removed]",
      "text/plain": [
       "<Figure size 648x432 with 1 Axes>"
      ]
     },
     "metadata": {
      "needs_background": "light"
     },
     "output_type": "display_data"
    }
   ],
   "source": [
    "fig, ax = plt.subplots(figsize=(9, 6))\n",
    "\n",
    "\n",
    "ob1 = HPacker(\n",
    "    children=[\n",
    "        TextArea(\"Test 1\", textprops={\"size\": 24}), \n",
    "        TextArea(\"Test 2\", textprops={\"size\": 24}),\n",
    "    ], \n",
    "    pad=0, \n",
    "    sep=0\n",
    ")\n",
    "\n",
    "ob2 = HPacker(\n",
    "    children=[\n",
    "        TextArea(\"Test 3\", textprops={\"size\": 24}), \n",
    "        TextArea(\"Test 4\", textprops={\"size\": 24}),\n",
    "    ], \n",
    "    pad=0, \n",
    "    sep=0\n",
    ")\n",
    "\n",
    "\n",
    "ab = AnnotationBbox(\n",
    "    VPacker(children=[ob1, ob2], pad=0, sep=0), \n",
    "    (0.5, 0.5), \n",
    "    xycoords=\"data\", \n",
    "    frameon=False, \n",
    "    box_alignment=(0.5, 0.5)\n",
    ")\n",
    "\n",
    "ax.add_artist(ab)\n",
    "#ax.text(0.5, 0.8, \"Test 1Test 2\", size=24)"
   ]
  }
 ],
 "metadata": {
  "kernelspec": {
   "display_name": "plots",
   "language": "python",
   "name": "plots"
  },
  "language_info": {
   "codemirror_mode": {
    "name": "ipython",
    "version": 3
   },
   "file_extension": ".py",
   "mimetype": "text/x-python",
   "name": "python",
   "nbconvert_exporter": "python",
   "pygments_lexer": "ipython3",
   "version": "3.9.5"
  }
 },
 "nbformat": 4,
 "nbformat_minor": 5
}
